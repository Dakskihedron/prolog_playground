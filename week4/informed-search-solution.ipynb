{
 "cells": [
  {
   "cell_type": "markdown",
   "source": [
    "# COMPSCI 367 Artificial Intelligence\n",
    "## Tutorial - Week 4\n",
    "Lecturer: Anna Trofimova"
   ],
   "metadata": {
    "collapsed": false,
    "pycharm": {
     "name": "#%% md\n"
    }
   }
  },
  {
   "cell_type": "markdown",
   "source": [
    "## Activity 5"
   ],
   "metadata": {
    "collapsed": false,
    "pycharm": {
     "name": "#%% md\n"
    }
   }
  },
  {
   "cell_type": "markdown",
   "source": [
    "In this activity, we will be implementing and testing informed search algorithms using aipython package. You can download the package and the documentation following the link: https://artint.info/AIPython/. Then you will need to place this notebook in aipython folder.\n"
   ],
   "metadata": {
    "collapsed": false,
    "pycharm": {
     "name": "#%% md\n"
    }
   }
  },
  {
   "cell_type": "markdown",
   "source": [
    "### Initialising the problem\n",
    "We will test the implemented algorithms using the Romania Map problem from the previous activities. Let's copy the code form the last week tutorial and run it here to init the problem. Run the cell below.\n"
   ],
   "metadata": {
    "collapsed": false,
    "pycharm": {
     "name": "#%% md\n"
    }
   }
  },
  {
   "cell_type": "code",
   "execution_count": null,
   "outputs": [],
   "source": [
    "from searchProblem import Search_problem_from_explicit_graph, Arc\n",
    "\n",
    "romania_map = Search_problem_from_explicit_graph(\n",
    "    {'Arad', 'Bucharest', 'Craiova', 'Drobeta', 'Eforie', 'Fagaras',\n",
    "     'Giurgiu', 'Hirsova', 'Iasi', 'Lugoj', 'Mehadia', 'Neamt',\n",
    "     'Oradea', 'Pitesti', 'Rimnicu Vilcea', 'Sibiu',\n",
    "     'Timisoara', 'Urziceni', 'Vaslui', 'Zerind'},\n",
    "    [\n",
    "     Arc('Arad', 'Zerind', 75),\n",
    "     Arc('Arad', 'Sibiu', 140),\n",
    "     Arc('Arad', 'Timisoara', 118),\n",
    "     Arc('Zerind', 'Oradea', 71),\n",
    "     Arc('Zerind', 'Arad', 75),\n",
    "     Arc('Oradea', 'Sibiu', 151),\n",
    "     Arc('Oradea', 'Zerind', 71),\n",
    "     Arc('Timisoara', 'Lugoj', 111),\n",
    "     Arc('Timisoara', 'Arad', 118),\n",
    "     Arc('Sibiu', 'Fagaras', 99),\n",
    "     Arc('Sibiu', 'Rimnicu Vilcea', 80),\n",
    "     Arc('Sibiu', 'Arad', 140),\n",
    "     Arc('Sibiu', 'Oradea', 151),\n",
    "     Arc('Lugoj', 'Mehadia', 70),\n",
    "     Arc('Lugoj', 'Timisoara', 111),\n",
    "     Arc('Fagaras', 'Bucharest', 211),\n",
    "     Arc('Fagaras', 'Sibiu', 99),\n",
    "     Arc('Rimnicu Vilcea', 'Pitesti', 97),\n",
    "     Arc('Rimnicu Vilcea', 'Craiova', 146),\n",
    "     Arc('Rimnicu Vilcea', 'Sibiu', 80),\n",
    "     Arc('Mehadia', 'Drobeta', 75),\n",
    "     Arc('Mehadia', 'Lugoj', 70),\n",
    "     Arc('Drobeta', 'Mehadia', 75),\n",
    "     Arc('Drobeta', 'Craiova', 120),\n",
    "     Arc('Craiova', 'Drobeta', 120),\n",
    "     Arc('Craiova', 'Pitesti', 138),\n",
    "     Arc('Craiova', 'Rimnicu Vilcea', 146),\n",
    "     Arc('Pitesti', 'Craiova', 138),\n",
    "     Arc('Pitesti', 'Rimnicu Vilcea', 97),\n",
    "     Arc('Pitesti', 'Bucharest', 101),\n",
    "     Arc('Bucharest', 'Pitesti', 101),\n",
    "     Arc('Bucharest', 'Urziceni', 85),\n",
    "     Arc('Bucharest', 'Giurgiu', 90),\n",
    "     Arc('Bucharest', 'Fagaras', 211),\n",
    "     Arc('Giurgiu', 'Bucharest', 90),\n",
    "     Arc('Urziceni', 'Hirsova', 98),\n",
    "     Arc('Urziceni', 'Vaslui', 142),\n",
    "     Arc('Urziceni', 'Bucharest', 85),\n",
    "     Arc('Hirsova', 'Eforie', 86),\n",
    "     Arc('Hirsova', 'Urziceni', 98),\n",
    "     Arc('Eforie', 'Hirsova', 86),\n",
    "     Arc('Vaslui', 'Iasi', 92),\n",
    "     Arc('Vaslui', 'Urziceni', 142),\n",
    "     Arc('Iasi', 'Vaslui', 92),\n",
    "     Arc('Iasi', 'Neamt', 87),\n",
    "     Arc('Neamt', 'Iasi', 87)],\n",
    "    start='Arad',\n",
    "    goals={'Bucharest'})"
   ],
   "metadata": {
    "collapsed": false,
    "pycharm": {
     "name": "#%%\n"
    }
   }
  },
  {
   "cell_type": "markdown",
   "source": [
    "### Implementing Algorithms\n",
    "\n",
    "The main difference between search algorithms is their frontier implementation, therefore there is no need to implement every algorithm from scratch - we can simply extend them. The frontiers of UCS, GFS, and A* are implemented as a queue, but they use different evaluation functions for sorting. Class AStarSearcher is implemented in the aipyton library, so the fastest way to implement searchers for UCS and GFS is to overwrite extend AStarSearcher and overwrite its method\n",
    "add_to_frontier.\n",
    "\n",
    "**Question 1**: In the cell below implement add_to_frontier method for UniformCostSearcher and GreedyBestSearcher classes."
   ],
   "metadata": {
    "collapsed": false,
    "pycharm": {
     "name": "#%% md\n"
    }
   }
  },
  {
   "cell_type": "code",
   "execution_count": null,
   "outputs": [],
   "source": [
    "from searchGeneric import AStarSearcher\n",
    "\n",
    "\n",
    "class UniformCostSearcher(AStarSearcher):\n",
    "    \"\"\"returns a searcher for a problem.\n",
    "    Paths can be found by repeatedly calling search().\n",
    "    \"\"\"\n",
    "\n",
    "    def __init__(self, problem):\n",
    "        super().__init__(problem)\n",
    "\n",
    "    def add_to_frontier(self, path):\n",
    "        \"\"\"add path to the frontier with the appropriate cost\"\"\"\n",
    "        value = path.cost\n",
    "        self.frontier.add(path, value)\n",
    "        return\n",
    "\n",
    "\n",
    "class GreedyBestSearcher(AStarSearcher):\n",
    "    \"\"\"returns a searcher for a problem.\n",
    "    Paths can be found by repeatedly calling search().\n",
    "    \"\"\"\n",
    "\n",
    "    def __init__(self, problem):\n",
    "        super().__init__(problem)\n",
    "\n",
    "    def add_to_frontier(self, path):\n",
    "        \"\"\"add path to the frontier with the appropriate cost\"\"\"\n",
    "        value = self.problem.heuristic(path.end())\n",
    "        self.frontier.add(path, value)\n",
    "        return"
   ],
   "metadata": {
    "collapsed": false,
    "pycharm": {
     "name": "#%%\n"
    }
   }
  },
  {
   "cell_type": "markdown",
   "source": [
    "**Question 2**: In the cells below run all three algorithms on Romania Map Problem. Compare the solutions found by these algorithms with your answers from Activity 1."
   ],
   "metadata": {
    "collapsed": false,
    "pycharm": {
     "name": "#%% md\n"
    }
   }
  },
  {
   "cell_type": "code",
   "execution_count": null,
   "outputs": [],
   "source": [
    "print('A* solution: ')\n",
    "AStarSearcher(romania_map).search()"
   ],
   "metadata": {
    "collapsed": false,
    "pycharm": {
     "name": "#%%\n"
    }
   }
  },
  {
   "cell_type": "code",
   "execution_count": null,
   "outputs": [],
   "source": [
    "print('UCS solution: ')\n",
    "UniformCostSearcher(romania_map).search()\n"
   ],
   "metadata": {
    "collapsed": false,
    "pycharm": {
     "name": "#%%\n"
    }
   }
  },
  {
   "cell_type": "code",
   "execution_count": null,
   "outputs": [],
   "source": [
    "print('GBS solution: ')\n",
    "GreedyBestSearcher(romania_map).search()"
   ],
   "metadata": {
    "collapsed": false,
    "pycharm": {
     "name": "#%%\n"
    }
   }
  }
 ],
 "metadata": {
  "kernelspec": {
   "display_name": "Python 3",
   "language": "python",
   "name": "python3"
  },
  "language_info": {
   "codemirror_mode": {
    "name": "ipython",
    "version": 2
   },
   "file_extension": ".py",
   "mimetype": "text/x-python",
   "name": "python",
   "nbconvert_exporter": "python",
   "pygments_lexer": "ipython2",
   "version": "2.7.6"
  }
 },
 "nbformat": 4,
 "nbformat_minor": 0
}