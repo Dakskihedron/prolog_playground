{
 "cells": [
  {
   "cell_type": "markdown",
   "source": [
    "# COMPSCI 367 Artificial Intelligence\n",
    "## Tutorial - Week 5\n",
    "Lecturer: Anna Trofimova"
   ],
   "metadata": {
    "collapsed": false,
    "pycharm": {
     "name": "#%% md\n"
    }
   }
  },
  {
   "cell_type": "markdown",
   "source": [
    "## Activity 4"
   ],
   "metadata": {
    "collapsed": false,
    "pycharm": {
     "name": "#%% md\n"
    }
   }
  },
  {
   "cell_type": "markdown",
   "source": [
    "In this activity, we will be solving a scheduling problem using different approaches.\n",
    "\n",
    "The  problem is defined as follows:\n",
    "Consider a scheduling problem, where there are five activities to be scheduled in four time slots. Suppose we represent the activities by the variables A, B, C, D, and E, where the domain of each variable is {1, 2, 3 ,4}. And the constraints are C≠D+1, A>D, D>E, C≠A, C>E, C≠D, B≥A, and B≠C.\n",
    "\n",
    "To define a scheduling problem we can use class CSP implemented in aipython. We will also need to use classes Viariable and Constraint. To import the classes run the cell below.\n"
   ],
   "metadata": {
    "collapsed": false,
    "pycharm": {
     "name": "#%% md\n"
    }
   }
  },
  {
   "cell_type": "code",
   "execution_count": 43,
   "outputs": [],
   "source": [
    "from cspProblem import Variable, CSP, Constraint"
   ],
   "metadata": {
    "collapsed": false,
    "pycharm": {
     "name": "#%%\n"
    }
   }
  },
  {
   "cell_type": "markdown",
   "source": [
    "First, let's create variables for the problem. To create a variable we need to specify its name and the domain.\n",
    "\n",
    "**Task 1**: Below is the code initialising one variable, edit the code to initialise all the variables."
   ],
   "metadata": {
    "collapsed": false,
    "pycharm": {
     "name": "#%% md\n"
    }
   }
  },
  {
   "cell_type": "code",
   "execution_count": 17,
   "outputs": [],
   "source": [
    "A = Variable('A', {1, 2, 3, 4})\n",
    "B = Variable('B', {1, 2, 3, 4})\n",
    "C = Variable('C', {1, 2, 3, 4})\n",
    "D = Variable('D', {1, 2, 3, 4})\n",
    "E = Variable('E', {1, 2, 3, 4})"
   ],
   "metadata": {
    "collapsed": false,
    "pycharm": {
     "name": "#%%\n"
    }
   }
  },
  {
   "cell_type": "markdown",
   "source": [
    "Then we need to initialise the constraints. To initialise a constraint you need to specify two parameters - the scope (a list of variables involved into that constraint) and the conditions (the methods that implement constraints). Optionally, You can also pass a name for that constraint. Let's define the constraint C≠D+1, which means that activity C cannot be performed 1 hour after activity D. Run the cell below to init that constraint:\n"
   ],
   "metadata": {
    "collapsed": false,
    "pycharm": {
     "name": "#%% md\n"
    }
   }
  },
  {
   "cell_type": "code",
   "execution_count": 44,
   "outputs": [],
   "source": [
    "def not_one_after(activity1, activity2):\n",
    "\n",
    "    def not_one_after_time(t1, t2):\n",
    "        \"\"\"is greater or smaller than a value + 1\"\"\"\n",
    "\n",
    "        return not(t1 == t2 + 1)\n",
    "\n",
    "    return not_one_after_time\n",
    "\n",
    "# constraint C≠D+1\n",
    "r1 = Constraint([C, D], not_one_after, \"C≠D+1\")"
   ],
   "metadata": {
    "collapsed": false,
    "pycharm": {
     "name": "#%%\n"
    }
   }
  },
  {
   "cell_type": "markdown",
   "source": [
    "Some constraints we can implement by importing methods from build-in library operation, these are\n",
    "- gt for \"greater than\";\n",
    "- ge for \"greater than or equal to\";\n",
    "- ne for \"not equal to\".\n",
    "\n",
    "**Task 2:** Below is the code that initialises one constraint, edit it to initialise the rest of the constraints.\n"
   ],
   "metadata": {
    "collapsed": false,
    "pycharm": {
     "name": "#%% md\n"
    }
   }
  },
  {
   "cell_type": "code",
   "execution_count": 45,
   "outputs": [],
   "source": [
    "from operator import gt, ge, ne\n",
    "\n",
    "r2 = Constraint([A, D], gt, \"A>D\")\n",
    "r3 = Constraint([D, E], gt, \"D>E\")\n",
    "r4 = Constraint([C, A], ne, \"C≠A\")\n",
    "r5 = Constraint([C, E], gt, \"C>E\")\n",
    "r6 = Constraint([C, D], ne, \"C≠D\")\n",
    "r7 = Constraint([B, A], ge, \"B≥A\")\n",
    "r8 = Constraint([B, C], ne, \"B≠C\")"
   ],
   "metadata": {
    "collapsed": false,
    "pycharm": {
     "name": "#%%\n"
    }
   }
  },
  {
   "cell_type": "markdown",
   "source": [
    "Given the variables and the constraints, we can now initialise the scheduling csp:"
   ],
   "metadata": {
    "collapsed": false,
    "pycharm": {
     "name": "#%% md\n"
    }
   }
  },
  {
   "cell_type": "code",
   "execution_count": 20,
   "outputs": [],
   "source": [
    "scheduling_csp = CSP(\"scheduling\",\n",
    "                     {A, B, C, D, E},\n",
    "                     [r1, r2, r3, r4, r5, r6, r7, r8])"
   ],
   "metadata": {
    "collapsed": false,
    "pycharm": {
     "name": "#%%\n"
    }
   }
  },
  {
   "cell_type": "markdown",
   "source": [
    "To find a valid assignment we can apply backtracking, which uses DFS at its core. To do so, we have to convert the csp into a search problem by using Search_from_CSP class."
   ],
   "metadata": {
    "collapsed": false,
    "pycharm": {
     "name": "#%% md\n"
    }
   }
  },
  {
   "cell_type": "code",
   "execution_count": 46,
   "outputs": [
    {
     "name": "stdout",
     "output_type": "stream",
     "text": [
      "44 paths have been expanded and 3 paths remain in the frontier\n",
      "The valid assignment: {B: 3, D: 2, C: 4, A: 3, E: 1}\n"
     ]
    }
   ],
   "source": [
    "from cspSearch import Search_from_CSP\n",
    "from searchGeneric import Searcher\n",
    "\n",
    "scheduling_sp = Search_from_CSP(scheduling_csp)\n",
    "searcher = Searcher(scheduling_sp)\n",
    "print('The valid assignment:', searcher.search().end())"
   ],
   "metadata": {
    "collapsed": false,
    "pycharm": {
     "name": "#%%\n"
    }
   }
  },
  {
   "cell_type": "markdown",
   "source": [
    "Backtracking guarantees us to find a solution if one exists. It's also important to note, that searcher.search() returns a path - in this case the order in which values were assigned to variables. However, the solution for csp be will be the assignments itself, so we are  interested only in the last node of the path - searcher.search().end()."
   ],
   "metadata": {
    "collapsed": false,
    "pycharm": {
     "name": "#%% md\n"
    }
   }
  },
  {
   "cell_type": "markdown",
   "source": [
    "There are other approaches we can use to solve this csp. For instance, we can use Hill Climbing algorithm and its modifications. The class SLSearcher implements stochastic local search with a number of variations. Below is the code that randomly initialises variables and then performs hill climbing while prioritising variables with most conflicts.\n",
    "\n",
    "Since Local Search doesn't guarantee to find a solution, you might need to run the cell below several times or increase the number of steps before termination (termination condition).\n",
    "\n",
    "**Task 3:** Play with the parameters to find a solution."
   ],
   "metadata": {
    "collapsed": false,
    "pycharm": {
     "name": "#%% md\n"
    }
   }
  },
  {
   "cell_type": "code",
   "execution_count": 68,
   "outputs": [
    {
     "name": "stdout",
     "output_type": "stream",
     "text": [
      "No solution in 31 steps 2 conflicts remain\n",
      "None\n"
     ]
    }
   ],
   "source": [
    "from cspSLS import SLSearcher\n",
    "local_searcher = SLSearcher(scheduling_csp)\n",
    "max_steps = 30\n",
    "prob_best = 0.5\n",
    "print(local_searcher.search(max_steps, prob_best))"
   ],
   "metadata": {
    "collapsed": false,
    "pycharm": {
     "name": "#%%\n"
    }
   }
  }
 ],
 "metadata": {
  "kernelspec": {
   "display_name": "Python 3",
   "language": "python",
   "name": "python3"
  },
  "language_info": {
   "codemirror_mode": {
    "name": "ipython",
    "version": 2
   },
   "file_extension": ".py",
   "mimetype": "text/x-python",
   "name": "python",
   "nbconvert_exporter": "python",
   "pygments_lexer": "ipython2",
   "version": "2.7.6"
  }
 },
 "nbformat": 4,
 "nbformat_minor": 0
}