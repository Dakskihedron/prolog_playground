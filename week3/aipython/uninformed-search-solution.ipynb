{
 "cells": [
  {
   "cell_type": "markdown",
   "metadata": {
    "pycharm": {
     "name": "#%% md\n"
    }
   },
   "source": [
    "# COMPSCI 367 Artificial Intelligence\n",
    "## Tutorial - Week 3\n",
    "Lecturer: Anna Trofimova"
   ]
  },
  {
   "cell_type": "markdown",
   "metadata": {
    "pycharm": {
     "name": "#%% md\n"
    }
   },
   "source": [
    "## Activity 3"
   ]
  },
  {
   "cell_type": "markdown",
   "metadata": {
    "pycharm": {
     "name": "#%% md\n"
    }
   },
   "source": [
    "In this activity, we will be implementing uninformed search algorithms using aipython package. You can download the package and the documentation following the link: https://artint.info/AIPython/. Then you will need to place this notebook in aipython folder."
   ]
  },
  {
   "cell_type": "markdown",
   "metadata": {
    "pycharm": {
     "name": "#%% md\n"
    }
   },
   "source": [
    "### Initialising the problem\n",
    "We can test the implemented algorithms using the Romania Map problem from the previous activities. First, let's create a problem using class Search_problem_from_explicit_graph from searchProblem.py. To do that we need to specify the domain of the problem (cities), arcs, and the arc costs. Run the cell below to initiate romania_map variable."
   ]
  },
  {
   "cell_type": "code",
   "execution_count": 2,
   "metadata": {
    "collapsed": false,
    "jupyter": {
     "outputs_hidden": false
    },
    "pycharm": {
     "name": "#%%\n"
    }
   },
   "outputs": [],
   "source": [
    "from searchProblem import Search_problem_from_explicit_graph, Arc\n",
    "\n",
    "romania_map = Search_problem_from_explicit_graph(\n",
    "    {'Arad', 'Bucharest', 'Craiova', 'Drobeta', 'Eforie', 'Fagaras',\n",
    "     'Giurgiu', 'Hirsova', 'Iasi', 'Lugoj', 'Mehadia', 'Neamt',\n",
    "     'Oradea', 'Pitesti', 'Rimnicu Vilcea', 'Sibiu',\n",
    "     'Timisoara', 'Urziceni', 'Vaslui', 'Zerind'},\n",
    "    [\n",
    "     Arc('Arad', 'Zerind', 75),\n",
    "     Arc('Arad', 'Sibiu', 140),\n",
    "     Arc('Arad', 'Timisoara', 118),\n",
    "     Arc('Zerind', 'Oradea', 71),\n",
    "     Arc('Zerind', 'Arad', 75),\n",
    "     Arc('Oradea', 'Sibiu', 151),\n",
    "     Arc('Oradea', 'Zerind', 71),\n",
    "     Arc('Timisoara', 'Lugoj', 111),\n",
    "     Arc('Timisoara', 'Arad', 118),\n",
    "     Arc('Sibiu', 'Fagaras', 99),\n",
    "     Arc('Sibiu', 'Rimnicu Vilcea', 80),\n",
    "     Arc('Sibiu', 'Arad', 140),\n",
    "     Arc('Sibiu', 'Oradea', 151),\n",
    "     Arc('Lugoj', 'Mehadia', 70),\n",
    "     Arc('Lugoj', 'Timisoara', 111),\n",
    "     Arc('Fagaras', 'Bucharest', 211),\n",
    "     Arc('Fagaras', 'Sibiu', 99),\n",
    "     Arc('Rimnicu Vilcea', 'Pitesti', 97),\n",
    "     Arc('Rimnicu Vilcea', 'Craiova', 146),\n",
    "     Arc('Rimnicu Vilcea', 'Sibiu', 80),\n",
    "     Arc('Mehadia', 'Drobeta', 75),\n",
    "     Arc('Mehadia', 'Lugoj', 70),\n",
    "     Arc('Drobeta', 'Mehadia', 75),\n",
    "     Arc('Drobeta', 'Craiova', 120),\n",
    "     Arc('Craiova', 'Drobeta', 120),\n",
    "     Arc('Craiova', 'Pitesti', 138),\n",
    "     Arc('Craiova', 'Rimnicu Vilcea', 146),\n",
    "     Arc('Pitesti', 'Craiova', 138),\n",
    "     Arc('Pitesti', 'Rimnicu Vilcea', 97),\n",
    "     Arc('Pitesti', 'Bucharest', 101),\n",
    "     Arc('Bucharest', 'Pitesti', 101),\n",
    "     Arc('Bucharest', 'Urziceni', 85),\n",
    "     Arc('Bucharest', 'Giurgiu', 90),\n",
    "     Arc('Bucharest', 'Fagaras', 211),\n",
    "     Arc('Giurgiu', 'Bucharest', 90),\n",
    "     Arc('Urziceni', 'Hirsova', 98),\n",
    "     Arc('Urziceni', 'Vaslui', 142),\n",
    "     Arc('Urziceni', 'Bucharest', 85),\n",
    "     Arc('Hirsova', 'Eforie', 86),\n",
    "     Arc('Hirsova', 'Urziceni', 98),\n",
    "     Arc('Eforie', 'Hirsova', 86),\n",
    "     Arc('Vaslui', 'Iasi', 92),\n",
    "     Arc('Vaslui', 'Urziceni', 142),\n",
    "     Arc('Iasi', 'Vaslui', 92),\n",
    "     Arc('Iasi', 'Neamt', 87),\n",
    "     Arc('Neamt', 'Iasi', 87)],\n",
    "    start='Arad',\n",
    "    goals={'Bucharest'})"
   ]
  },
  {
   "cell_type": "markdown",
   "metadata": {
    "pycharm": {
     "name": "#%% md\n"
    }
   },
   "source": [
    "**Question 1**: In the code above, does the romania_map variable represent unidirectional or bidirectional graph?"
   ]
  },
  {
   "cell_type": "markdown",
   "metadata": {
    "pycharm": {
     "name": "#%% md\n"
    }
   },
   "source": [
    "Answer: bi-directional"
   ]
  },
  {
   "cell_type": "markdown",
   "metadata": {
    "pycharm": {
     "name": "#%% md\n"
    }
   },
   "source": [
    "### Generic Search\n",
    "Now let's take a look at the algorithm that has already been implemented in aipython package. Locate the class Searcher in the SearchGeneric.py and explore its methods."
   ]
  },
  {
   "cell_type": "markdown",
   "metadata": {
    "pycharm": {
     "name": "#%% md\n"
    }
   },
   "source": [
    "**Question 2**: What search algorithm does class Searcher represent? Run the cell below to find a solution using Searcher algorithm."
   ]
  },
  {
   "cell_type": "code",
   "execution_count": 3,
   "metadata": {
    "collapsed": false,
    "jupyter": {
     "outputs_hidden": false
    },
    "pycharm": {
     "name": "#%%\n"
    }
   },
   "outputs": [
    {
     "name": "stdout",
     "output_type": "stream",
     "text": [
      "6 paths have been expanded and 8 paths remain in the frontier\n",
      "Solution found: Arad --> Zerind --> Oradea --> Sibiu --> Fagaras --> Bucharest\n"
     ]
    }
   ],
   "source": [
    "from searchGeneric import Searcher\n",
    "\n",
    "searcher = Searcher(romania_map)\n",
    "solution = searcher.search()\n",
    "print(\"Solution found:\", solution)"
   ]
  },
  {
   "cell_type": "markdown",
   "metadata": {
    "pycharm": {
     "name": "#%% md\n"
    }
   },
   "source": [
    "Answer: It is implementation of DFS"
   ]
  },
  {
   "cell_type": "markdown",
   "metadata": {
    "pycharm": {
     "name": "#%% md\n"
    }
   },
   "source": [
    "### Breadth First Search\n",
    "\n",
    "The main difference between search algorithms is their frontier implementation, therefore there is no need to implement every algorithm from scratch - we can simply extend them. The frontier of BFS is implemented as a queue, so the only method we have to overwrite is add_to_frontier.\n",
    "\n",
    "**Question 3**: Complete the method add_to_frontier in the cell below.\n",
    "Tip: Take a look at the search method of the Searcher. How does it select a path to explore from the frontier: is it the first or the last element?"
   ]
  },
  {
   "cell_type": "code",
   "execution_count": 4,
   "metadata": {
    "collapsed": false,
    "jupyter": {
     "outputs_hidden": false
    },
    "pycharm": {
     "name": "#%%\n"
    }
   },
   "outputs": [],
   "source": [
    "class BreadthFirstSearcher(Searcher):\n",
    "    \"\"\"returns a BFS searcher for a problem.\n",
    "    Solution can be found by calling search().\n",
    "    \"\"\"\n",
    "\n",
    "    def __init__(self, problem):\n",
    "        super().__init__(problem)\n",
    "\n",
    "    def add_to_frontier(self,path):\n",
    "        \"\"\"add path to the frontier\"\"\"\n",
    "        self.frontier.insert(0, path)\n",
    "        return"
   ]
  },
  {
   "cell_type": "markdown",
   "metadata": {
    "pycharm": {
     "name": "#%% md\n"
    }
   },
   "source": [
    "Run the code below and compare it with the answer you got by performing the BFS manually."
   ]
  },
  {
   "cell_type": "code",
   "execution_count": 5,
   "metadata": {
    "collapsed": false,
    "jupyter": {
     "outputs_hidden": false
    },
    "pycharm": {
     "name": "#%%\n"
    }
   },
   "outputs": [
    {
     "name": "stdout",
     "output_type": "stream",
     "text": [
      "27 paths have been expanded and 45 paths remain in the frontier\n",
      "Solution found: Arad --> Sibiu --> Fagaras --> Bucharest\n"
     ]
    }
   ],
   "source": [
    "bfs = BreadthFirstSearcher(romania_map)\n",
    "solution = bfs.search()\n",
    "print(\"Solution found:\", solution)"
   ]
  },
  {
   "cell_type": "markdown",
   "metadata": {
    "pycharm": {
     "name": "#%% md\n"
    }
   },
   "source": [
    "### Uniform Cost Search\n",
    "\n",
    "Similarly, we can create a class UniformCostSearch by extending existing classes. Uniform Cost Search uses a priority queue as a frontier and for that we can use FrontierPQ class from searchGeneric.py. The class FrontierPQ has a method add  to add a new path - check out its implementation.\n",
    "\n",
    "**Question 3**: Complete the method add_to_frontier in the cell below."
   ]
  },
  {
   "cell_type": "code",
   "execution_count": 6,
   "metadata": {
    "collapsed": false,
    "jupyter": {
     "outputs_hidden": false
    },
    "pycharm": {
     "name": "#%%\n"
    }
   },
   "outputs": [],
   "source": [
    "from searchGeneric import FrontierPQ\n",
    "\n",
    "class UniformCostSearcher(Searcher):\n",
    "    \"\"\"A class representing UCS\n",
    "    Solution can be found by calling search().\n",
    "    \"\"\"\n",
    "\n",
    "    def __init__(self, problem):\n",
    "        super().__init__(problem)\n",
    "\n",
    "    def initialize_frontier(self):\n",
    "        self.frontier = FrontierPQ()\n",
    "\n",
    "    def empty_frontier(self):\n",
    "        return self.frontier.empty()\n",
    "\n",
    "    def add_to_frontier(self, path):\n",
    "        \"\"\"add path to the frontier with the appropriate cost\"\"\"\n",
    "        value = path.cost\n",
    "        self.frontier.add(path, value)\n",
    "        return"
   ]
  },
  {
   "cell_type": "markdown",
   "metadata": {
    "pycharm": {
     "name": "#%% md\n"
    }
   },
   "source": [
    "Run the code below and compare the solution with the answer you got by performing the UCS manually."
   ]
  },
  {
   "cell_type": "code",
   "execution_count": 7,
   "metadata": {
    "collapsed": false,
    "jupyter": {
     "outputs_hidden": false
    },
    "pycharm": {
     "name": "#%%\n"
    }
   },
   "outputs": [
    {
     "name": "stdout",
     "output_type": "stream",
     "text": [
      "53 paths have been expanded and 80 paths remain in the frontier\n",
      "Solution found: Arad --> Sibiu --> Rimnicu Vilcea --> Pitesti --> Bucharest\n"
     ]
    }
   ],
   "source": [
    "ucs = UniformCostSearcher(romania_map)\n",
    "solution = ucs.search()\n",
    "print(\"Solution found:\", solution)"
   ]
  },
  {
   "cell_type": "code",
   "execution_count": null,
   "metadata": {},
   "outputs": [],
   "source": []
  }
 ],
 "metadata": {
  "kernelspec": {
   "display_name": "Python 3 (ipykernel)",
   "language": "python",
   "name": "python3"
  },
  "language_info": {
   "codemirror_mode": {
    "name": "ipython",
    "version": 3
   },
   "file_extension": ".py",
   "mimetype": "text/x-python",
   "name": "python",
   "nbconvert_exporter": "python",
   "pygments_lexer": "ipython3",
   "version": "3.10.12"
  }
 },
 "nbformat": 4,
 "nbformat_minor": 4
}
