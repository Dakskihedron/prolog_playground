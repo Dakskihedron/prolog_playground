{
 "cells": [
  {
   "cell_type": "markdown",
   "source": [
    "# COMPSCI 367 Artificial Intelligence\n",
    "## Tutorial - Week 2\n",
    "Lecturer: Anna Trofimova"
   ],
   "metadata": {
    "collapsed": false,
    "pycharm": {
     "name": "#%% md\n"
    }
   }
  },
  {
   "cell_type": "markdown",
   "source": [
    "## Activity 4"
   ],
   "metadata": {
    "collapsed": false,
    "pycharm": {
     "name": "#%% md\n"
    }
   }
  },
  {
   "cell_type": "markdown",
   "source": [
    "In this activity, we will be implementing an automated stock trading system.\n",
    "\n",
    "First, let's implement the class Market, which will represent the stock trading environment. At the beginning of trading, the market has 200 shares, each worth 100 coins. The class method get_current_price simulates the stochastic nature of stock price changes. It returns the current price by applying random fluctuations to the previous price value. Run the code below."
   ],
   "metadata": {
    "collapsed": false,
    "pycharm": {
     "name": "#%% md\n"
    }
   }
  },
  {
   "cell_type": "code",
   "execution_count": null,
   "outputs": [],
   "source": [
    "import random\n",
    "\n",
    "\n",
    "class Market(object):\n",
    "    def __init__(self):\n",
    "        self.current_price = 100  # Initialize the current stock price to 100\n",
    "        self.volatility = 0.1  # Set the volatility range to 0.1 (10%)\n",
    "        self.price_history = []  # Create an empty list to store the price history\n",
    "        self.instock = 200\n",
    "\n",
    "    def get_current_price(self):\n",
    "        \"\"\"\n",
    "        Get the current stock price with random fluctuations based on volatility.\n",
    "\n",
    "        Returns:\n",
    "        float: The updated current stock price after applying the random percentage change.\n",
    "        \"\"\"\n",
    "\n",
    "        # Generate a random percentage change within the specified volatility range\n",
    "        percentage_change = random.uniform(-self.volatility, self.volatility)\n",
    "\n",
    "        # Calculate the new stock price based on the percentage change and the number of available shares\n",
    "        self.current_price = self.current_price * (1 + percentage_change) * self.instock/200\n",
    "\n",
    "        # Add the new price to the price history\n",
    "        self.price_history.append(self.current_price)\n",
    "\n",
    "        # Return the updated current stock price\n",
    "        return self.current_price"
   ],
   "metadata": {
    "collapsed": false,
    "pycharm": {
     "name": "#%%\n"
    }
   }
  },
  {
   "cell_type": "markdown",
   "source": [
    "Now, let's implement a automated trading agent, which chooses weather to buy or sell shares based on the current stock price. Let's assume that the agent starts with 300 coins in the bank and 0 shares. It's method choose_action stands for choosing whether to sell shares, buy shares, or hold. The decision is based on if-else rule:\n",
    " - if the current price is over 100, then it sells all the shares;\n",
    " - if the price is below 60 then it buys all the shares it can buy with the money in the bank;\n",
    " - in all other cases it does nothing.\n",
    "\n",
    "Complete the method choose_action based on the specifications above.\n",
    "Tip: don't forget to update bank and shares attributes."
   ],
   "metadata": {
    "collapsed": false,
    "pycharm": {
     "name": "#%% md\n"
    }
   }
  },
  {
   "cell_type": "code",
   "execution_count": null,
   "outputs": [],
   "source": [
    "import math\n",
    "\n",
    "\n",
    "class TradingAgent(object):\n",
    "    def __init__(self):\n",
    "        self.bank = 300   # Initialize the agent's bank balance to 300 coins\n",
    "        self.shares = 0   # Initialize the agent's share holdings to 0\n",
    "\n",
    "    def choose_action(self, current_price):\n",
    "        \"\"\"\n",
    "        Choose an action (buy, sell, or do nothing) based on the current stock price.\n",
    "\n",
    "        Args:\n",
    "        current_price (float): The current stock price.\n",
    "\n",
    "        Returns:\n",
    "        tuple: A tuple containing the chosen action ('buy', 'sell', or 'do nothing') and the number of shares involved.\n",
    "        \"\"\"\n",
    "\n",
    "        action = None\n",
    "        shares = None\n",
    "\n",
    "        return action, shares   # Return the chosen action and the number of shares involved (if any)"
   ],
   "metadata": {
    "collapsed": false,
    "pycharm": {
     "name": "#%%\n"
    }
   }
  },
  {
   "cell_type": "markdown",
   "source": [
    "**Question 1:** What type of agent is it?"
   ],
   "metadata": {
    "collapsed": false,
    "pycharm": {
     "name": "#%% md\n"
    }
   }
  },
  {
   "cell_type": "markdown",
   "source": [
    "The class below brings together the TradingAgent and Market classes to simulate a trading session and has two methods for visualisation - one plots the price change over time (generated by a stochastic process); the other one plots the history of the agent's bank.\n",
    "\n",
    "Tip: matplotlib is not an in-build library, you might need to install it. Add and run cell with \"pip install matplotlib\""
   ],
   "metadata": {
    "collapsed": false,
    "pycharm": {
     "name": "#%% md\n"
    }
   }
  },
  {
   "cell_type": "code",
   "execution_count": null,
   "outputs": [],
   "source": [
    "import matplotlib.pyplot as plt\n",
    "\n",
    "class Trading(object):\n",
    "    def __init__(self):\n",
    "        self.agent = TradingAgent()\n",
    "        self.market = Market()\n",
    "        self.bank_history = []\n",
    "\n",
    "    def trade(self, duration):\n",
    "        for _ in range(duration):\n",
    "            self.bank_history.append(self.agent.bank)\n",
    "            current_price = self.market.get_current_price()\n",
    "            action, shares = self.agent.choose_action(current_price)\n",
    "        self.bank_history.append(self.agent.bank)\n",
    "        return\n",
    "\n",
    "    def plot_bank_history(self):\n",
    "        # Generate x-axis values for plotting\n",
    "        time = list(range(len(self.bank_history)))\n",
    "\n",
    "        # Plot the bank\n",
    "        plt.plot(time, self.bank_history, marker='o')\n",
    "        plt.xlabel('Time')\n",
    "        plt.ylabel('Money')\n",
    "        plt.title('Money in the bank')\n",
    "        plt.grid(True)\n",
    "\n",
    "    def plot_price_history(self):\n",
    "        # Generate x-axis values for plotting\n",
    "        time = list(range(len(self.market.price_history)))\n",
    "\n",
    "        # Plot the simulated stock prices\n",
    "        plt.plot(time, self.market.price_history, marker='o')\n",
    "        plt.xlabel('Time')\n",
    "        plt.ylabel('Stock Price')\n",
    "        plt.title('Simulated Stock Prices')\n",
    "        plt.grid(True)"
   ],
   "metadata": {
    "collapsed": false,
    "pycharm": {
     "name": "#%%\n"
    }
   }
  },
  {
   "cell_type": "markdown",
   "source": [
    "**Question 2:** Take a look at the agent model (lecture on Agents & Environments, slide 4) and tell which methods represent percepts and actions."
   ],
   "metadata": {
    "collapsed": false,
    "pycharm": {
     "name": "#%% md\n"
    }
   }
  },
  {
   "cell_type": "markdown",
   "source": [
    "Let's run simulation for 100 steps and check how much money the agent earned.\n",
    "Tip: since the stock price is generated stochastically you can run the cell below several times to get the sense of agent's performance."
   ],
   "metadata": {
    "collapsed": false,
    "pycharm": {
     "name": "#%% md\n"
    }
   }
  },
  {
   "cell_type": "code",
   "execution_count": null,
   "outputs": [],
   "source": [
    "trading = Trading()\n",
    "trading.trade(100)\n",
    "trading.plot_bank_history()"
   ],
   "metadata": {
    "collapsed": false,
    "pycharm": {
     "name": "#%%\n"
    }
   }
  },
  {
   "cell_type": "markdown",
   "source": [
    "The chances are that the agent has not earned anything or spent all the money.\n",
    "\n",
    "**Question 3:** Run the plot below and try to explain what happened. Why didn't the agent make any profit?"
   ],
   "metadata": {
    "collapsed": false,
    "pycharm": {
     "name": "#%% md\n"
    }
   }
  },
  {
   "cell_type": "code",
   "execution_count": null,
   "outputs": [],
   "source": [
    "trading.plot_price_history()"
   ],
   "metadata": {
    "collapsed": false,
    "pycharm": {
     "name": "#%%\n"
    }
   }
  },
  {
   "cell_type": "markdown",
   "source": [
    "**Question 4:** What can you do to improve the agent's performance?"
   ],
   "metadata": {
    "collapsed": false,
    "pycharm": {
     "name": "#%% md\n"
    }
   }
  }
 ],
 "metadata": {
  "kernelspec": {
   "display_name": "Python 3",
   "language": "python",
   "name": "python3"
  },
  "language_info": {
   "codemirror_mode": {
    "name": "ipython",
    "version": 2
   },
   "file_extension": ".py",
   "mimetype": "text/x-python",
   "name": "python",
   "nbconvert_exporter": "python",
   "pygments_lexer": "ipython2",
   "version": "2.7.6"
  }
 },
 "nbformat": 4,
 "nbformat_minor": 0
}